{
  "nbformat": 4,
  "nbformat_minor": 0,
  "metadata": {
    "colab": {
      "name": "Twitter sentiment analysis .ipynb",
      "provenance": [],
      "collapsed_sections": []
    },
    "kernelspec": {
      "name": "python3",
      "display_name": "Python 3"
    },
    "language_info": {
      "name": "python"
    }
  },
  "cells": [
    {
      "cell_type": "code",
      "execution_count": null,
      "metadata": {
        "colab": {
          "base_uri": "https://localhost:8080/"
        },
        "id": "MBEdhIVkFiR6",
        "outputId": "9bfa08de-6b66-41b2-a5c8-d3e7eb3db1a1"
      },
      "outputs": [
        {
          "output_type": "stream",
          "name": "stdout",
          "text": [
            "Requirement already satisfied: kaggle in /usr/local/lib/python3.7/dist-packages (1.5.12)\n",
            "Requirement already satisfied: six>=1.10 in /usr/local/lib/python3.7/dist-packages (from kaggle) (1.15.0)\n",
            "Requirement already satisfied: urllib3 in /usr/local/lib/python3.7/dist-packages (from kaggle) (1.24.3)\n",
            "Requirement already satisfied: requests in /usr/local/lib/python3.7/dist-packages (from kaggle) (2.23.0)\n",
            "Requirement already satisfied: tqdm in /usr/local/lib/python3.7/dist-packages (from kaggle) (4.62.3)\n",
            "Requirement already satisfied: python-slugify in /usr/local/lib/python3.7/dist-packages (from kaggle) (5.0.2)\n",
            "Requirement already satisfied: python-dateutil in /usr/local/lib/python3.7/dist-packages (from kaggle) (2.8.2)\n",
            "Requirement already satisfied: certifi in /usr/local/lib/python3.7/dist-packages (from kaggle) (2021.10.8)\n",
            "Requirement already satisfied: text-unidecode>=1.3 in /usr/local/lib/python3.7/dist-packages (from python-slugify->kaggle) (1.3)\n",
            "Requirement already satisfied: chardet<4,>=3.0.2 in /usr/local/lib/python3.7/dist-packages (from requests->kaggle) (3.0.4)\n",
            "Requirement already satisfied: idna<3,>=2.5 in /usr/local/lib/python3.7/dist-packages (from requests->kaggle) (2.10)\n"
          ]
        }
      ],
      "source": [
        "# installing the Kaggle library\n",
        "!pip install kaggle"
      ]
    },
    {
      "cell_type": "code",
      "source": [
        "# configuring the path of Kaggle.json file\n",
        "!mkdir -p ~/.kaggle\n",
        "!cp kaggle.json ~/.kaggle/\n",
        "!chmod 600 ~/.kaggle/kaggle.json"
      ],
      "metadata": {
        "id": "srZdW2JRGlCQ"
      },
      "execution_count": null,
      "outputs": []
    },
    {
      "cell_type": "code",
      "source": [
        "# API to fetch the dataset from Kaggle\n",
        "!kaggle competitions download -c twitter-sentiment-analysis2"
      ],
      "metadata": {
        "colab": {
          "base_uri": "https://localhost:8080/"
        },
        "id": "D0Znq15sG4Sl",
        "outputId": "ed476820-82c4-4ae9-aaa9-5c4750a5dcb1"
      },
      "execution_count": null,
      "outputs": [
        {
          "output_type": "stream",
          "name": "stdout",
          "text": [
            "Warning: Looks like you're using an outdated API Version, please consider updating (server 1.5.12 / client 1.5.4)\n",
            "Downloading test.csv.zip to /content\n",
            " 46% 5.00M/11.0M [00:00<00:00, 50.7MB/s]\n",
            "100% 11.0M/11.0M [00:00<00:00, 53.1MB/s]\n",
            "Downloading train.csv.zip to /content\n",
            "  0% 0.00/3.67M [00:00<?, ?B/s]\n",
            "100% 3.67M/3.67M [00:00<00:00, 197MB/s]\n"
          ]
        }
      ]
    },
    {
      "cell_type": "code",
      "source": [
        "# extracting the compessed Dataset\n",
        "from zipfile import ZipFile\n",
        "dataset_train = 'file_path'\n",
        "dataset_test = 'file_path'"
      ],
      "metadata": {
        "id": "-9222kpeHl4I"
      },
      "execution_count": null,
      "outputs": []
    },
    {
      "cell_type": "code",
      "source": [
        "with ZipFile(dataset_train,'r') as zip:\n",
        "  zip.extractall()\n",
        "with ZipFile(dataset_test,'r') as zip1:\n",
        "  zip1.extractall()\n",
        "  "
      ],
      "metadata": {
        "id": "UM_4WCZ6J5GN"
      },
      "execution_count": 16,
      "outputs": []
    },
    {
      "cell_type": "code",
      "source": [
        "import numpy as np\n",
        "import pandas as pd\n",
        "import re\n",
        "import nltk\n",
        "nltk.download('wordnet')\n",
        "from nltk.stem import WordNetLemmatizer\n",
        "from nltk.corpus import stopwords\n",
        "from sklearn.feature_extraction.text import TfidfVectorizer\n",
        "from sklearn.naive_bayes import MultinomialNB\n",
        "from sklearn.metrics import accuracy_score"
      ],
      "metadata": {
        "colab": {
          "base_uri": "https://localhost:8080/"
        },
        "id": "slAsw5TSLWxn",
        "outputId": "2711429d-f985-4321-c7cb-694f1cd8c700"
      },
      "execution_count": 204,
      "outputs": [
        {
          "output_type": "stream",
          "name": "stdout",
          "text": [
            "[nltk_data] Downloading package wordnet to /root/nltk_data...\n",
            "[nltk_data]   Package wordnet is already up-to-date!\n"
          ]
        }
      ]
    },
    {
      "cell_type": "code",
      "source": [
        "#nltk.download('punkt')"
      ],
      "metadata": {
        "id": "fnfm_Fe_N5eT"
      },
      "execution_count": 205,
      "outputs": []
    },
    {
      "cell_type": "code",
      "source": [
        "import nltk\n",
        "nltk.download('stopwords')"
      ],
      "metadata": {
        "colab": {
          "base_uri": "https://localhost:8080/"
        },
        "id": "OXps4l01OQPm",
        "outputId": "15bbacb8-969f-4322-d2f8-4617ae511dca"
      },
      "execution_count": 206,
      "outputs": [
        {
          "output_type": "stream",
          "name": "stdout",
          "text": [
            "[nltk_data] Downloading package stopwords to /root/nltk_data...\n",
            "[nltk_data]   Package stopwords is already up-to-date!\n"
          ]
        },
        {
          "output_type": "execute_result",
          "data": {
            "text/plain": [
              "True"
            ]
          },
          "metadata": {},
          "execution_count": 206
        }
      ]
    },
    {
      "cell_type": "code",
      "source": [
        "# printing the stopwords in English\n",
        "stop_words=set(stopwords.words('english'))\n",
        "print(stop_words)"
      ],
      "metadata": {
        "colab": {
          "base_uri": "https://localhost:8080/"
        },
        "id": "reRcmKYGPmNU",
        "outputId": "cfe35683-1730-46b6-f472-ebe25236364f"
      },
      "execution_count": 207,
      "outputs": [
        {
          "output_type": "stream",
          "name": "stdout",
          "text": [
            "{'t', 'don', 're', \"you'll\", 'wouldn', 'these', 'here', 'this', 'more', 'her', 'that', 've', 'by', 'above', 'has', 'himself', \"won't\", 'up', 'are', 'of', 'ma', 'after', 'does', 'needn', 'our', 'down', 'into', 'under', 'isn', 'below', 'themselves', \"don't\", 'both', 'just', \"mightn't\", 'over', 'only', \"hadn't\", 'aren', 'were', 'm', \"wasn't\", 'weren', 'again', 'why', 'ain', 'yourselves', 'or', 'having', 'my', 'wasn', 'his', 'can', 'hadn', \"haven't\", 'doing', 'about', 'she', \"shan't\", 'yourself', 'now', 'their', 'an', \"couldn't\", 'mightn', 'hers', 'o', 'such', \"isn't\", 'is', 'same', 'to', \"mustn't\", 'they', \"you'd\", 'each', \"you've\", 'had', 'where', 'against', \"that'll\", 'from', 'once', 'hasn', \"she's\", 'few', \"doesn't\", 'through', 'did', 'too', 'further', 'what', 'but', 'because', 'no', \"hasn't\", 'with', 'mustn', \"weren't\", 'other', 'while', \"didn't\", \"shouldn't\", \"you're\", 'very', 'whom', \"should've\", 'and', 'there', 'not', 'theirs', 'own', 'some', 'me', 'so', 'for', 'it', 'do', \"wouldn't\", 'a', 'y', 'been', 'you', 'should', 'any', 'yours', 'be', 'as', 'he', 'won', 'than', 'out', 'its', 'the', 'itself', 'being', 'him', 'i', 'ours', 'shan', 'in', 'doesn', 'how', 'have', 'them', 'll', 'will', 'shouldn', 'most', \"needn't\", 'who', 's', 'your', 'was', \"it's\", 'at', 'between', 'on', 'those', 'before', 'myself', 'we', 'until', 'd', 'off', 'didn', 'which', 'am', 'during', \"aren't\", 'haven', 'if', 'nor', 'then', 'when', 'couldn', 'ourselves', 'all', 'herself'}\n"
          ]
        }
      ]
    },
    {
      "cell_type": "code",
      "source": [
        "import string\n",
        "punct=string.punctuation\n",
        "punct"
      ],
      "metadata": {
        "colab": {
          "base_uri": "https://localhost:8080/",
          "height": 35
        },
        "id": "q6lk6La-zXbU",
        "outputId": "3f1b6d5e-b59e-4cf1-b63c-0ab74a9e606c"
      },
      "execution_count": 208,
      "outputs": [
        {
          "output_type": "execute_result",
          "data": {
            "application/vnd.google.colaboratory.intrinsic+json": {
              "type": "string"
            },
            "text/plain": [
              "'!\"#$%&\\'()*+,-./:;<=>?@[\\\\]^_`{|}~'"
            ]
          },
          "metadata": {},
          "execution_count": 208
        }
      ]
    },
    {
      "cell_type": "code",
      "source": [
        "# loading the dataset to a pandas DataFrame\n",
        "train = pd.read_csv('file_path', encoding='latin-1')\n",
        "test= pd.read_csv('file_path', encoding='latin-1')"
      ],
      "metadata": {
        "id": "J6Pk_Ht8PsW9"
      },
      "execution_count": 209,
      "outputs": []
    },
    {
      "cell_type": "code",
      "source": [
        "train.head()"
      ],
      "metadata": {
        "colab": {
          "base_uri": "https://localhost:8080/",
          "height": 206
        },
        "id": "o1EuCPQvQhHj",
        "outputId": "4690a0f9-2057-4869-dd65-ca6a9805bab4"
      },
      "execution_count": 210,
      "outputs": [
        {
          "output_type": "execute_result",
          "data": {
            "text/html": [
              "\n",
              "  <div id=\"df-1d6d9800-1ae2-49e2-bf9c-758956ada854\">\n",
              "    <div class=\"colab-df-container\">\n",
              "      <div>\n",
              "<style scoped>\n",
              "    .dataframe tbody tr th:only-of-type {\n",
              "        vertical-align: middle;\n",
              "    }\n",
              "\n",
              "    .dataframe tbody tr th {\n",
              "        vertical-align: top;\n",
              "    }\n",
              "\n",
              "    .dataframe thead th {\n",
              "        text-align: right;\n",
              "    }\n",
              "</style>\n",
              "<table border=\"1\" class=\"dataframe\">\n",
              "  <thead>\n",
              "    <tr style=\"text-align: right;\">\n",
              "      <th></th>\n",
              "      <th>ItemID</th>\n",
              "      <th>Sentiment</th>\n",
              "      <th>SentimentText</th>\n",
              "    </tr>\n",
              "  </thead>\n",
              "  <tbody>\n",
              "    <tr>\n",
              "      <th>0</th>\n",
              "      <td>1</td>\n",
              "      <td>0</td>\n",
              "      <td>is so sad for my APL frie...</td>\n",
              "    </tr>\n",
              "    <tr>\n",
              "      <th>1</th>\n",
              "      <td>2</td>\n",
              "      <td>0</td>\n",
              "      <td>I missed the New Moon trail...</td>\n",
              "    </tr>\n",
              "    <tr>\n",
              "      <th>2</th>\n",
              "      <td>3</td>\n",
              "      <td>1</td>\n",
              "      <td>omg its already 7:30 :O</td>\n",
              "    </tr>\n",
              "    <tr>\n",
              "      <th>3</th>\n",
              "      <td>4</td>\n",
              "      <td>0</td>\n",
              "      <td>.. Omgaga. Im sooo  im gunna CRy. I'...</td>\n",
              "    </tr>\n",
              "    <tr>\n",
              "      <th>4</th>\n",
              "      <td>5</td>\n",
              "      <td>0</td>\n",
              "      <td>i think mi bf is cheating on me!!!   ...</td>\n",
              "    </tr>\n",
              "  </tbody>\n",
              "</table>\n",
              "</div>\n",
              "      <button class=\"colab-df-convert\" onclick=\"convertToInteractive('df-1d6d9800-1ae2-49e2-bf9c-758956ada854')\"\n",
              "              title=\"Convert this dataframe to an interactive table.\"\n",
              "              style=\"display:none;\">\n",
              "        \n",
              "  <svg xmlns=\"http://www.w3.org/2000/svg\" height=\"24px\"viewBox=\"0 0 24 24\"\n",
              "       width=\"24px\">\n",
              "    <path d=\"M0 0h24v24H0V0z\" fill=\"none\"/>\n",
              "    <path d=\"M18.56 5.44l.94 2.06.94-2.06 2.06-.94-2.06-.94-.94-2.06-.94 2.06-2.06.94zm-11 1L8.5 8.5l.94-2.06 2.06-.94-2.06-.94L8.5 2.5l-.94 2.06-2.06.94zm10 10l.94 2.06.94-2.06 2.06-.94-2.06-.94-.94-2.06-.94 2.06-2.06.94z\"/><path d=\"M17.41 7.96l-1.37-1.37c-.4-.4-.92-.59-1.43-.59-.52 0-1.04.2-1.43.59L10.3 9.45l-7.72 7.72c-.78.78-.78 2.05 0 2.83L4 21.41c.39.39.9.59 1.41.59.51 0 1.02-.2 1.41-.59l7.78-7.78 2.81-2.81c.8-.78.8-2.07 0-2.86zM5.41 20L4 18.59l7.72-7.72 1.47 1.35L5.41 20z\"/>\n",
              "  </svg>\n",
              "      </button>\n",
              "      \n",
              "  <style>\n",
              "    .colab-df-container {\n",
              "      display:flex;\n",
              "      flex-wrap:wrap;\n",
              "      gap: 12px;\n",
              "    }\n",
              "\n",
              "    .colab-df-convert {\n",
              "      background-color: #E8F0FE;\n",
              "      border: none;\n",
              "      border-radius: 50%;\n",
              "      cursor: pointer;\n",
              "      display: none;\n",
              "      fill: #1967D2;\n",
              "      height: 32px;\n",
              "      padding: 0 0 0 0;\n",
              "      width: 32px;\n",
              "    }\n",
              "\n",
              "    .colab-df-convert:hover {\n",
              "      background-color: #E2EBFA;\n",
              "      box-shadow: 0px 1px 2px rgba(60, 64, 67, 0.3), 0px 1px 3px 1px rgba(60, 64, 67, 0.15);\n",
              "      fill: #174EA6;\n",
              "    }\n",
              "\n",
              "    [theme=dark] .colab-df-convert {\n",
              "      background-color: #3B4455;\n",
              "      fill: #D2E3FC;\n",
              "    }\n",
              "\n",
              "    [theme=dark] .colab-df-convert:hover {\n",
              "      background-color: #434B5C;\n",
              "      box-shadow: 0px 1px 3px 1px rgba(0, 0, 0, 0.15);\n",
              "      filter: drop-shadow(0px 1px 2px rgba(0, 0, 0, 0.3));\n",
              "      fill: #FFFFFF;\n",
              "    }\n",
              "  </style>\n",
              "\n",
              "      <script>\n",
              "        const buttonEl =\n",
              "          document.querySelector('#df-1d6d9800-1ae2-49e2-bf9c-758956ada854 button.colab-df-convert');\n",
              "        buttonEl.style.display =\n",
              "          google.colab.kernel.accessAllowed ? 'block' : 'none';\n",
              "\n",
              "        async function convertToInteractive(key) {\n",
              "          const element = document.querySelector('#df-1d6d9800-1ae2-49e2-bf9c-758956ada854');\n",
              "          const dataTable =\n",
              "            await google.colab.kernel.invokeFunction('convertToInteractive',\n",
              "                                                     [key], {});\n",
              "          if (!dataTable) return;\n",
              "\n",
              "          const docLinkHtml = 'Like what you see? Visit the ' +\n",
              "            '<a target=\"_blank\" href=https://colab.research.google.com/notebooks/data_table.ipynb>data table notebook</a>'\n",
              "            + ' to learn more about interactive tables.';\n",
              "          element.innerHTML = '';\n",
              "          dataTable['output_type'] = 'display_data';\n",
              "          await google.colab.output.renderOutput(dataTable, element);\n",
              "          const docLink = document.createElement('div');\n",
              "          docLink.innerHTML = docLinkHtml;\n",
              "          element.appendChild(docLink);\n",
              "        }\n",
              "      </script>\n",
              "    </div>\n",
              "  </div>\n",
              "  "
            ],
            "text/plain": [
              "   ItemID  Sentiment                                      SentimentText\n",
              "0       1          0                       is so sad for my APL frie...\n",
              "1       2          0                     I missed the New Moon trail...\n",
              "2       3          1                            omg its already 7:30 :O\n",
              "3       4          0            .. Omgaga. Im sooo  im gunna CRy. I'...\n",
              "4       5          0           i think mi bf is cheating on me!!!   ..."
            ]
          },
          "metadata": {},
          "execution_count": 210
        }
      ]
    },
    {
      "cell_type": "code",
      "source": [
        "test.head()"
      ],
      "metadata": {
        "colab": {
          "base_uri": "https://localhost:8080/",
          "height": 206
        },
        "id": "H5HrOa9BQlk9",
        "outputId": "e6aab90f-c222-4568-beeb-16a3f6313818"
      },
      "execution_count": 211,
      "outputs": [
        {
          "output_type": "execute_result",
          "data": {
            "text/html": [
              "\n",
              "  <div id=\"df-d3ec8f10-7801-4c50-a6c8-9e45f3ad5a82\">\n",
              "    <div class=\"colab-df-container\">\n",
              "      <div>\n",
              "<style scoped>\n",
              "    .dataframe tbody tr th:only-of-type {\n",
              "        vertical-align: middle;\n",
              "    }\n",
              "\n",
              "    .dataframe tbody tr th {\n",
              "        vertical-align: top;\n",
              "    }\n",
              "\n",
              "    .dataframe thead th {\n",
              "        text-align: right;\n",
              "    }\n",
              "</style>\n",
              "<table border=\"1\" class=\"dataframe\">\n",
              "  <thead>\n",
              "    <tr style=\"text-align: right;\">\n",
              "      <th></th>\n",
              "      <th>ItemID</th>\n",
              "      <th>SentimentText</th>\n",
              "    </tr>\n",
              "  </thead>\n",
              "  <tbody>\n",
              "    <tr>\n",
              "      <th>0</th>\n",
              "      <td>1</td>\n",
              "      <td>is so sad for my APL frie...</td>\n",
              "    </tr>\n",
              "    <tr>\n",
              "      <th>1</th>\n",
              "      <td>2</td>\n",
              "      <td>I missed the New Moon trail...</td>\n",
              "    </tr>\n",
              "    <tr>\n",
              "      <th>2</th>\n",
              "      <td>3</td>\n",
              "      <td>omg its already 7:30 :O</td>\n",
              "    </tr>\n",
              "    <tr>\n",
              "      <th>3</th>\n",
              "      <td>4</td>\n",
              "      <td>.. Omgaga. Im sooo  im gunna CRy. I'...</td>\n",
              "    </tr>\n",
              "    <tr>\n",
              "      <th>4</th>\n",
              "      <td>5</td>\n",
              "      <td>i think mi bf is cheating on me!!!   ...</td>\n",
              "    </tr>\n",
              "  </tbody>\n",
              "</table>\n",
              "</div>\n",
              "      <button class=\"colab-df-convert\" onclick=\"convertToInteractive('df-d3ec8f10-7801-4c50-a6c8-9e45f3ad5a82')\"\n",
              "              title=\"Convert this dataframe to an interactive table.\"\n",
              "              style=\"display:none;\">\n",
              "        \n",
              "  <svg xmlns=\"http://www.w3.org/2000/svg\" height=\"24px\"viewBox=\"0 0 24 24\"\n",
              "       width=\"24px\">\n",
              "    <path d=\"M0 0h24v24H0V0z\" fill=\"none\"/>\n",
              "    <path d=\"M18.56 5.44l.94 2.06.94-2.06 2.06-.94-2.06-.94-.94-2.06-.94 2.06-2.06.94zm-11 1L8.5 8.5l.94-2.06 2.06-.94-2.06-.94L8.5 2.5l-.94 2.06-2.06.94zm10 10l.94 2.06.94-2.06 2.06-.94-2.06-.94-.94-2.06-.94 2.06-2.06.94z\"/><path d=\"M17.41 7.96l-1.37-1.37c-.4-.4-.92-.59-1.43-.59-.52 0-1.04.2-1.43.59L10.3 9.45l-7.72 7.72c-.78.78-.78 2.05 0 2.83L4 21.41c.39.39.9.59 1.41.59.51 0 1.02-.2 1.41-.59l7.78-7.78 2.81-2.81c.8-.78.8-2.07 0-2.86zM5.41 20L4 18.59l7.72-7.72 1.47 1.35L5.41 20z\"/>\n",
              "  </svg>\n",
              "      </button>\n",
              "      \n",
              "  <style>\n",
              "    .colab-df-container {\n",
              "      display:flex;\n",
              "      flex-wrap:wrap;\n",
              "      gap: 12px;\n",
              "    }\n",
              "\n",
              "    .colab-df-convert {\n",
              "      background-color: #E8F0FE;\n",
              "      border: none;\n",
              "      border-radius: 50%;\n",
              "      cursor: pointer;\n",
              "      display: none;\n",
              "      fill: #1967D2;\n",
              "      height: 32px;\n",
              "      padding: 0 0 0 0;\n",
              "      width: 32px;\n",
              "    }\n",
              "\n",
              "    .colab-df-convert:hover {\n",
              "      background-color: #E2EBFA;\n",
              "      box-shadow: 0px 1px 2px rgba(60, 64, 67, 0.3), 0px 1px 3px 1px rgba(60, 64, 67, 0.15);\n",
              "      fill: #174EA6;\n",
              "    }\n",
              "\n",
              "    [theme=dark] .colab-df-convert {\n",
              "      background-color: #3B4455;\n",
              "      fill: #D2E3FC;\n",
              "    }\n",
              "\n",
              "    [theme=dark] .colab-df-convert:hover {\n",
              "      background-color: #434B5C;\n",
              "      box-shadow: 0px 1px 3px 1px rgba(0, 0, 0, 0.15);\n",
              "      filter: drop-shadow(0px 1px 2px rgba(0, 0, 0, 0.3));\n",
              "      fill: #FFFFFF;\n",
              "    }\n",
              "  </style>\n",
              "\n",
              "      <script>\n",
              "        const buttonEl =\n",
              "          document.querySelector('#df-d3ec8f10-7801-4c50-a6c8-9e45f3ad5a82 button.colab-df-convert');\n",
              "        buttonEl.style.display =\n",
              "          google.colab.kernel.accessAllowed ? 'block' : 'none';\n",
              "\n",
              "        async function convertToInteractive(key) {\n",
              "          const element = document.querySelector('#df-d3ec8f10-7801-4c50-a6c8-9e45f3ad5a82');\n",
              "          const dataTable =\n",
              "            await google.colab.kernel.invokeFunction('convertToInteractive',\n",
              "                                                     [key], {});\n",
              "          if (!dataTable) return;\n",
              "\n",
              "          const docLinkHtml = 'Like what you see? Visit the ' +\n",
              "            '<a target=\"_blank\" href=https://colab.research.google.com/notebooks/data_table.ipynb>data table notebook</a>'\n",
              "            + ' to learn more about interactive tables.';\n",
              "          element.innerHTML = '';\n",
              "          dataTable['output_type'] = 'display_data';\n",
              "          await google.colab.output.renderOutput(dataTable, element);\n",
              "          const docLink = document.createElement('div');\n",
              "          docLink.innerHTML = docLinkHtml;\n",
              "          element.appendChild(docLink);\n",
              "        }\n",
              "      </script>\n",
              "    </div>\n",
              "  </div>\n",
              "  "
            ],
            "text/plain": [
              "   ItemID                                      SentimentText\n",
              "0       1                       is so sad for my APL frie...\n",
              "1       2                     I missed the New Moon trail...\n",
              "2       3                            omg its already 7:30 :O\n",
              "3       4            .. Omgaga. Im sooo  im gunna CRy. I'...\n",
              "4       5           i think mi bf is cheating on me!!!   ..."
            ]
          },
          "metadata": {},
          "execution_count": 211
        }
      ]
    },
    {
      "cell_type": "code",
      "source": [
        "test.shape"
      ],
      "metadata": {
        "colab": {
          "base_uri": "https://localhost:8080/"
        },
        "id": "PHNJMyTDRl5k",
        "outputId": "c194e3f1-a128-40cb-f27f-12fdef0190ad"
      },
      "execution_count": 212,
      "outputs": [
        {
          "output_type": "execute_result",
          "data": {
            "text/plain": [
              "(299989, 2)"
            ]
          },
          "metadata": {},
          "execution_count": 212
        }
      ]
    },
    {
      "cell_type": "code",
      "source": [
        "train_x=train[\"SentimentText\"]\n",
        "train_y=train[\"Sentiment\"]"
      ],
      "metadata": {
        "id": "YG32gPl1PxkE"
      },
      "execution_count": 213,
      "outputs": []
    },
    {
      "cell_type": "code",
      "source": [
        "train_x"
      ],
      "metadata": {
        "colab": {
          "base_uri": "https://localhost:8080/"
        },
        "id": "gA5R5ZAVQ_fd",
        "outputId": "a277b2d5-c3c0-490c-c1a1-367b9948b255"
      },
      "execution_count": 214,
      "outputs": [
        {
          "output_type": "execute_result",
          "data": {
            "text/plain": [
              "0                             is so sad for my APL frie...\n",
              "1                           I missed the New Moon trail...\n",
              "2                                  omg its already 7:30 :O\n",
              "3                  .. Omgaga. Im sooo  im gunna CRy. I'...\n",
              "4                 i think mi bf is cheating on me!!!   ...\n",
              "                               ...                        \n",
              "99984    @Cupcake  seems like a repeating problem   hop...\n",
              "99985    @cupcake__ arrrr we both replied to each other...\n",
              "99986                       @CuPcAkE_2120 ya i thought so \n",
              "99987    @Cupcake_Dollie Yes. Yes. I'm glad you had mor...\n",
              "99988                      @cupcake_kayla haha yes you do \n",
              "Name: SentimentText, Length: 99989, dtype: object"
            ]
          },
          "metadata": {},
          "execution_count": 214
        }
      ]
    },
    {
      "cell_type": "code",
      "source": [
        "train_y"
      ],
      "metadata": {
        "colab": {
          "base_uri": "https://localhost:8080/"
        },
        "id": "oEW2FPY1RCKO",
        "outputId": "0c66c2ef-8d49-4c41-f989-62a86ad5fddb"
      },
      "execution_count": 215,
      "outputs": [
        {
          "output_type": "execute_result",
          "data": {
            "text/plain": [
              "0        0\n",
              "1        0\n",
              "2        1\n",
              "3        0\n",
              "4        0\n",
              "        ..\n",
              "99984    0\n",
              "99985    1\n",
              "99986    0\n",
              "99987    1\n",
              "99988    1\n",
              "Name: Sentiment, Length: 99989, dtype: int64"
            ]
          },
          "metadata": {},
          "execution_count": 215
        }
      ]
    },
    {
      "cell_type": "code",
      "source": [
        "train_y.value_counts()"
      ],
      "metadata": {
        "colab": {
          "base_uri": "https://localhost:8080/"
        },
        "id": "xYlY1v32SsJd",
        "outputId": "d45f2d03-1f9b-4006-8f20-227fcc4af02e"
      },
      "execution_count": 216,
      "outputs": [
        {
          "output_type": "execute_result",
          "data": {
            "text/plain": [
              "1    56457\n",
              "0    43532\n",
              "Name: Sentiment, dtype: int64"
            ]
          },
          "metadata": {},
          "execution_count": 216
        }
      ]
    },
    {
      "cell_type": "code",
      "source": [
        "test_x=test[\"SentimentText\"]"
      ],
      "metadata": {
        "id": "zPO5FK8CXiVP"
      },
      "execution_count": 217,
      "outputs": []
    },
    {
      "cell_type": "code",
      "source": [
        "print(test_x)"
      ],
      "metadata": {
        "colab": {
          "base_uri": "https://localhost:8080/"
        },
        "id": "LCYrlJpazuIm",
        "outputId": "add26648-45cd-4a73-8d37-c4e7309e6396"
      },
      "execution_count": 218,
      "outputs": [
        {
          "output_type": "stream",
          "name": "stdout",
          "text": [
            "0                              is so sad for my APL frie...\n",
            "1                            I missed the New Moon trail...\n",
            "2                                   omg its already 7:30 :O\n",
            "3                   .. Omgaga. Im sooo  im gunna CRy. I'...\n",
            "4                  i think mi bf is cheating on me!!!   ...\n",
            "                                ...                        \n",
            "299984    @martine2323 'Morning, Petal - work brought me...\n",
            "299985    @martinetrene Hello,little bird!  i finally st...\n",
            "299986    @MartinezMayra I got u at work when I go buy o...\n",
            "299987       @martinfaux He certainly gives good interview \n",
            "299988    @martinfaux we've the feedback about our brows...\n",
            "Name: SentimentText, Length: 299989, dtype: object\n"
          ]
        }
      ]
    },
    {
      "cell_type": "code",
      "source": [
        "train_x.isnull().sum()"
      ],
      "metadata": {
        "colab": {
          "base_uri": "https://localhost:8080/"
        },
        "id": "_0vxGSBdz57G",
        "outputId": "0681992d-bf59-4e41-f8a8-1b26dcd41fb4"
      },
      "execution_count": 219,
      "outputs": [
        {
          "output_type": "execute_result",
          "data": {
            "text/plain": [
              "0"
            ]
          },
          "metadata": {},
          "execution_count": 219
        }
      ]
    },
    {
      "cell_type": "code",
      "source": [
        "test_x.isnull().sum()"
      ],
      "metadata": {
        "colab": {
          "base_uri": "https://localhost:8080/"
        },
        "id": "ylxf-yBZ0B6m",
        "outputId": "abd7f9c5-9712-4ec5-ab35-11a6ddf8cc7e"
      },
      "execution_count": 220,
      "outputs": [
        {
          "output_type": "execute_result",
          "data": {
            "text/plain": [
              "0"
            ]
          },
          "metadata": {},
          "execution_count": 220
        }
      ]
    },
    {
      "cell_type": "code",
      "source": [
        "def clean(text):\n",
        "    content=nltk.word_tokenize(text.lower())\n",
        "    content=re.sub('https?://\\S+','',str(content))\n",
        "    content=re.sub('[^a-zA-Z]',' ',str(content))\n",
        "    content=re.sub(r'\\s+',' ',str(content))\n",
        "    content =content.split()\n",
        "    lemma=WordNetLemmatizer()\n",
        "    content = [lemma.lemmatize(word , pos='v') for word in content if (not word in punct) & (not word in stop_words)]\n",
        "    content = ' '.join(content)\n",
        "    return content"
      ],
      "metadata": {
        "id": "Ydk9aOz9qrC6"
      },
      "execution_count": 221,
      "outputs": []
    },
    {
      "cell_type": "code",
      "source": [
        "x_train=train_x.apply(clean)"
      ],
      "metadata": {
        "id": "fMCdF_oNrJEQ"
      },
      "execution_count": 222,
      "outputs": []
    },
    {
      "cell_type": "code",
      "source": [
        "print(x_train)"
      ],
      "metadata": {
        "colab": {
          "base_uri": "https://localhost:8080/"
        },
        "id": "uPMdLNuasNzr",
        "outputId": "5af57987-7dc7-44db-d684-734ab9ad6a0e"
      },
      "execution_count": 223,
      "outputs": [
        {
          "output_type": "stream",
          "name": "stdout",
          "text": [
            "0                                           sad apl friend\n",
            "1                                    miss new moon trailer\n",
            "2                                              omg already\n",
            "3        omgaga im sooo im gunna cry dentist since supo...\n",
            "4                                        think mi bf cheat\n",
            "                               ...                        \n",
            "99984    cupcake seem like repeat problem hope able fin...\n",
            "99985    cupcake arrrr reply different tweet time see d...\n",
            "99986                                     cupcake ya think\n",
            "99987                      cupcake dollie yes yes glad fun\n",
            "99988                               cupcake kayla haha yes\n",
            "Name: SentimentText, Length: 99989, dtype: object\n"
          ]
        }
      ]
    },
    {
      "cell_type": "code",
      "source": [
        "x_test=test_x.apply(clean)"
      ],
      "metadata": {
        "id": "PFS9nf030U0f"
      },
      "execution_count": 224,
      "outputs": []
    },
    {
      "cell_type": "code",
      "source": [
        "print(x_test)"
      ],
      "metadata": {
        "colab": {
          "base_uri": "https://localhost:8080/"
        },
        "id": "yH6N9SYh02uX",
        "outputId": "a4416159-87de-4f07-fdd6-d590c79e4028"
      },
      "execution_count": 225,
      "outputs": [
        {
          "output_type": "stream",
          "name": "stdout",
          "text": [
            "0                                            sad apl friend\n",
            "1                                     miss new moon trailer\n",
            "2                                               omg already\n",
            "3         omgaga im sooo im gunna cry dentist since supo...\n",
            "4                                         think mi bf cheat\n",
            "                                ...                        \n",
            "299984    martine morning petal work bring bank first ho...\n",
            "299985    martinetrene hello little bird finally start r...\n",
            "299986    martinezmayra get u work go buy one u know ima...\n",
            "299987             martinfaux certainly give good interview\n",
            "299988    martinfaux feedback browser compatibility stor...\n",
            "Name: SentimentText, Length: 299989, dtype: object\n"
          ]
        }
      ]
    },
    {
      "cell_type": "code",
      "source": [
        "# converting the textual data to numerical data\n",
        "vectorizer = TfidfVectorizer()\n",
        "train_vec=vectorizer.fit_transform(x_train)"
      ],
      "metadata": {
        "id": "H4O40zJe1s-5"
      },
      "execution_count": 226,
      "outputs": []
    },
    {
      "cell_type": "code",
      "source": [
        "print(train_vec)"
      ],
      "metadata": {
        "colab": {
          "base_uri": "https://localhost:8080/"
        },
        "id": "cawyeHSU1976",
        "outputId": "5be43d2d-2059-4baf-dd91-cd4a59ecc696"
      },
      "execution_count": 227,
      "outputs": [
        {
          "output_type": "stream",
          "name": "stdout",
          "text": [
            "  (0, 53037)\t0.43289543577431105\n",
            "  (0, 13966)\t0.8213296762766267\n",
            "  (0, 76990)\t0.371509225394338\n",
            "  (1, 84803)\t0.6313626989965042\n",
            "  (1, 67205)\t0.5879779843568281\n",
            "  (1, 68724)\t0.37754282376282255\n",
            "  (1, 66653)\t0.33633978125212244\n",
            "  (2, 7776)\t0.6929494310444987\n",
            "  (2, 70349)\t0.7209861898920848\n",
            "  (3, 66564)\t0.2709961162961676\n",
            "  (3, 74155)\t0.20789100491713808\n",
            "  (3, 45846)\t0.33505128265420164\n",
            "  (3, 53923)\t0.1152570917327998\n",
            "  (3, 81971)\t0.4065813259687981\n",
            "  (3, 79121)\t0.21214316178108042\n",
            "  (3, 47582)\t0.3052965129575028\n",
            "  (3, 45978)\t0.21665036099659432\n",
            "  (3, 55274)\t0.2925777034984362\n",
            "  (3, 80114)\t0.2382306973605294\n",
            "  (3, 58196)\t0.3157190016251374\n",
            "  (3, 70350)\t0.4065813259687981\n",
            "  (4, 37671)\t0.5694773172179313\n",
            "  (4, 24588)\t0.5280535336974084\n",
            "  (4, 66205)\t0.5694773172179313\n",
            "  (4, 83701)\t0.2693522524468943\n",
            "  :\t:\n",
            "  (99984, 52075)\t0.2718610961290102\n",
            "  (99984, 63246)\t0.20059892122407363\n",
            "  (99984, 80031)\t0.2902905175917009\n",
            "  (99985, 61019)\t0.45432530742549154\n",
            "  (99985, 15392)\t0.45432530742549154\n",
            "  (99985, 46399)\t0.3454221297660228\n",
            "  (99985, 49291)\t0.4061715499933271\n",
            "  (99985, 47986)\t0.28157556781276893\n",
            "  (99985, 75642)\t0.24247746793047012\n",
            "  (99985, 56343)\t0.2645157656579106\n",
            "  (99985, 84068)\t0.1678027086825554\n",
            "  (99985, 85466)\t0.20030076433031213\n",
            "  (99985, 77881)\t0.1629674689998986\n",
            "  (99986, 46399)\t0.7875792583776818\n",
            "  (99986, 89955)\t0.49591183991564863\n",
            "  (99986, 83701)\t0.3657736442183016\n",
            "  (99987, 48635)\t0.6058549155167928\n",
            "  (99987, 46399)\t0.4606296233703539\n",
            "  (99987, 54235)\t0.2914126761704611\n",
            "  (99987, 90275)\t0.5171242841883071\n",
            "  (99987, 53262)\t0.26157465146249687\n",
            "  (99988, 61099)\t0.6711295992859448\n",
            "  (99988, 46399)\t0.5906895816643227\n",
            "  (99988, 90275)\t0.3315678275972045\n",
            "  (99988, 55503)\t0.3012202761734096\n"
          ]
        }
      ]
    },
    {
      "cell_type": "code",
      "source": [
        "test_vec=vectorizer.transform(x_test)"
      ],
      "metadata": {
        "id": "RkX7wt5t2DrE"
      },
      "execution_count": 228,
      "outputs": []
    },
    {
      "cell_type": "code",
      "source": [
        "print(test_vec)"
      ],
      "metadata": {
        "colab": {
          "base_uri": "https://localhost:8080/"
        },
        "id": "SYqKhEat2L72",
        "outputId": "6a4280a5-7c69-4bec-87a9-59f922b5e104"
      },
      "execution_count": 229,
      "outputs": [
        {
          "output_type": "stream",
          "name": "stdout",
          "text": [
            "  (0, 76990)\t0.371509225394338\n",
            "  (0, 53037)\t0.43289543577431105\n",
            "  (0, 13966)\t0.8213296762766267\n",
            "  (1, 84803)\t0.6313626989965042\n",
            "  (1, 68724)\t0.37754282376282255\n",
            "  (1, 67205)\t0.5879779843568281\n",
            "  (1, 66653)\t0.33633978125212244\n",
            "  (2, 70349)\t0.7209861898920848\n",
            "  (2, 7776)\t0.6929494310444987\n",
            "  (3, 81971)\t0.4065813259687981\n",
            "  (3, 80114)\t0.2382306973605294\n",
            "  (3, 79121)\t0.21214316178108042\n",
            "  (3, 74155)\t0.20789100491713808\n",
            "  (3, 70350)\t0.4065813259687981\n",
            "  (3, 66564)\t0.2709961162961676\n",
            "  (3, 58196)\t0.3157190016251374\n",
            "  (3, 55274)\t0.2925777034984362\n",
            "  (3, 53923)\t0.1152570917327998\n",
            "  (3, 47582)\t0.3052965129575028\n",
            "  (3, 45978)\t0.21665036099659432\n",
            "  (3, 45846)\t0.33505128265420164\n",
            "  (4, 83701)\t0.2693522524468943\n",
            "  (4, 66205)\t0.5694773172179313\n",
            "  (4, 37671)\t0.5694773172179313\n",
            "  (4, 24588)\t0.5280535336974084\n",
            "  :\t:\n",
            "  (299985, 64170)\t0.22790243126200965\n",
            "  (299985, 63458)\t0.2450076759229728\n",
            "  (299985, 56367)\t0.278616915385677\n",
            "  (299985, 53923)\t0.1434788143416147\n",
            "  (299985, 52065)\t0.28583759317142093\n",
            "  (299985, 47070)\t0.1873875169549625\n",
            "  (299985, 25652)\t0.3455769792597617\n",
            "  (299985, 9569)\t0.19606553538773652\n",
            "  (299986, 89347)\t0.2618682481319716\n",
            "  (299986, 70413)\t0.5244765623753933\n",
            "  (299986, 61840)\t0.24298797214724804\n",
            "  (299986, 58197)\t0.49925912944554424\n",
            "  (299986, 54392)\t0.21985946891541078\n",
            "  (299986, 53923)\t0.4062161215356735\n",
            "  (299986, 32241)\t0.36701062617991936\n",
            "  (299987, 58875)\t0.5807754476015746\n",
            "  (299987, 54531)\t0.2960746281006912\n",
            "  (299987, 54206)\t0.41958159499990405\n",
            "  (299987, 36449)\t0.6316573273504904\n",
            "  (299988, 81347)\t0.3134471353789474\n",
            "  (299988, 63992)\t0.39325812591586756\n",
            "  (299988, 51753)\t0.40922065249662354\n",
            "  (299988, 43143)\t0.509917125739286\n",
            "  (299988, 41482)\t0.3623994588091041\n",
            "  (299988, 30888)\t0.43392229076962946\n"
          ]
        }
      ]
    },
    {
      "cell_type": "code",
      "source": [
        "# Training the Model: MultinomialNB\n",
        "model= MultinomialNB()\n"
      ],
      "metadata": {
        "id": "julOlpDw2lo3"
      },
      "execution_count": 230,
      "outputs": []
    },
    {
      "cell_type": "code",
      "source": [
        "model.fit(train_vec,train_y)"
      ],
      "metadata": {
        "colab": {
          "base_uri": "https://localhost:8080/"
        },
        "id": "s8iPUAR321ZA",
        "outputId": "082e3ac8-5788-40bc-d3af-9b49f8ab7013"
      },
      "execution_count": 231,
      "outputs": [
        {
          "output_type": "execute_result",
          "data": {
            "text/plain": [
              "MultinomialNB()"
            ]
          },
          "metadata": {},
          "execution_count": 231
        }
      ]
    },
    {
      "cell_type": "code",
      "source": [
        "# accuracy score on the training data\n",
        "train_prediction = model.predict(train_vec)\n",
        "training_data_accuracy = accuracy_score(train_prediction, train_y)"
      ],
      "metadata": {
        "id": "ZbBO6rjO3Cwx"
      },
      "execution_count": 232,
      "outputs": []
    },
    {
      "cell_type": "code",
      "source": [
        "print(training_data_accuracy)"
      ],
      "metadata": {
        "colab": {
          "base_uri": "https://localhost:8080/"
        },
        "id": "_k9HvUcx3ROS",
        "outputId": "8424c480-80bb-4865-a224-bd21f55f4e10"
      },
      "execution_count": 233,
      "outputs": [
        {
          "output_type": "stream",
          "name": "stdout",
          "text": [
            "0.8593945333986739\n"
          ]
        }
      ]
    },
    {
      "cell_type": "code",
      "source": [
        "test_prediction = model.predict(test_vec)"
      ],
      "metadata": {
        "id": "4w1CrxPO4AOv"
      },
      "execution_count": 234,
      "outputs": []
    },
    {
      "cell_type": "code",
      "source": [
        "print(test_prediction)"
      ],
      "metadata": {
        "colab": {
          "base_uri": "https://localhost:8080/"
        },
        "id": "DfW297Sc4Gyp",
        "outputId": "7ff3c7dd-620b-4bd9-8294-8a56ff884c87"
      },
      "execution_count": 235,
      "outputs": [
        {
          "output_type": "stream",
          "name": "stdout",
          "text": [
            "[0 1 0 ... 0 1 1]\n"
          ]
        }
      ]
    },
    {
      "cell_type": "code",
      "source": [
        "#saving and loading the model\n",
        "import pickle"
      ],
      "metadata": {
        "id": "WAAjlb0Q7uBg"
      },
      "execution_count": 236,
      "outputs": []
    },
    {
      "cell_type": "code",
      "source": [
        "pickle.dump(vectorizer, open('tranform.pkl', 'wb'))\n",
        "pickle.dump(model, open('model.pkl', 'wb'))"
      ],
      "metadata": {
        "id": "J6lxB_8q-oZY"
      },
      "execution_count": 237,
      "outputs": []
    },
    {
      "cell_type": "code",
      "source": [
        "vec=pickle.load(open('tranform.pkl', 'rb'))\n",
        "mp=pickle.load(open('model.pkl', 'rb'))"
      ],
      "metadata": {
        "id": "ooOO08MU_aoz"
      },
      "execution_count": 238,
      "outputs": []
    }
  ]
}